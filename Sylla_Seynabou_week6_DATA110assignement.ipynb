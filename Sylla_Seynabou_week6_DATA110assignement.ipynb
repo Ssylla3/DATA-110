{
  "nbformat": 4,
  "nbformat_minor": 0,
  "metadata": {
    "colab": {
      "private_outputs": true,
      "provenance": [],
      "include_colab_link": true
    },
    "kernelspec": {
      "name": "python3",
      "display_name": "Python 3"
    },
    "language_info": {
      "name": "python"
    }
  },
  "cells": [
    {
      "cell_type": "markdown",
      "metadata": {
        "id": "view-in-github",
        "colab_type": "text"
      },
      "source": [
        "<a href=\"https://colab.research.google.com/github/Ssylla3/DATA-110/blob/main/Sylla_Seynabou_week6_DATA110assignement.ipynb\" target=\"_parent\"><img src=\"https://colab.research.google.com/assets/colab-badge.svg\" alt=\"Open In Colab\"/></a>"
      ]
    },
    {
      "cell_type": "markdown",
      "source": [
        "# Setting Up Your Environment and\n",
        "1. Install any necessary packages"
      ],
      "metadata": {
        "id": "HEqhCWnovnkz"
      }
    },
    {
      "cell_type": "code",
      "execution_count": null,
      "metadata": {
        "id": "5XzeNRjcvSgi"
      },
      "outputs": [],
      "source": [
        "# Install necessary packages (if not already installed)\n",
        "!pip install seaborn plotnine joypy pandas matplotlib --quiet\n"
      ]
    },
    {
      "cell_type": "markdown",
      "source": [
        "2. Import the required libraries:"
      ],
      "metadata": {
        "id": "sU4hVHMgvyqr"
      }
    },
    {
      "cell_type": "code",
      "source": [
        "import pandas as pd\n",
        "import seaborn as sns\n",
        "import matplotlib.pyplot as plt\n",
        "from joypy import joyplot\n",
        "import warnings\n",
        "warnings.filterwarnings(\"ignore\")\n",
        "\n",
        "sns.set(style=\"whitegrid\")\n"
      ],
      "metadata": {
        "id": "2is_tYkxv3fb"
      },
      "execution_count": null,
      "outputs": []
    },
    {
      "cell_type": "markdown",
      "source": [
        "Part 2: Load and Explore the Dataset\n",
        "\n",
        "1. Load the Palmer Penguins dataset:\n",
        "\n",
        "url = \"https://raw.githubusercontent.com/mwaskom/seaborn-data/master/penguins.csv\"\n"
      ],
      "metadata": {
        "id": "5Vs2RF4Rv7Ad"
      }
    },
    {
      "cell_type": "code",
      "source": [
        "# Load the dataset\n",
        "url = \"https://raw.githubusercontent.com/mwaskom/seaborn-data/master/penguins.csv\"\n",
        "penguins = pd.read_csv(url)\n",
        "\n",
        "# Display the first few rows\n",
        "penguins.head()\n"
      ],
      "metadata": {
        "id": "6QCHSOn0wImo"
      },
      "execution_count": null,
      "outputs": []
    },
    {
      "cell_type": "markdown",
      "source": [
        "2. The dataset contains missing values. Handle them by removing rows with NaN values:"
      ],
      "metadata": {
        "id": "zlBc4A29wJQB"
      }
    },
    {
      "cell_type": "code",
      "source": [
        "# Remove rows with NaN values\n",
        "penguins.dropna(inplace=True)\n"
      ],
      "metadata": {
        "id": "7tQEwznIwN92"
      },
      "execution_count": null,
      "outputs": []
    },
    {
      "cell_type": "markdown",
      "source": [
        "# Part 2: Data Visualization\n",
        "\n",
        "Task 1: Boxplot - Analyzing Body Mass by Species\n",
        "Create a boxplot to compare the distribution of penguin body mass across different species:"
      ],
      "metadata": {
        "id": "XxVuiEy8wOmO"
      }
    },
    {
      "cell_type": "markdown",
      "source": [],
      "metadata": {
        "id": "yB4k24eDv4H7"
      }
    },
    {
      "cell_type": "code",
      "source": [
        "plt.figure(figsize=(8, 6))\n",
        "sns.boxplot(x=\"species\", y=\"body_mass_g\", data=penguins, palette=\"Set2\")\n",
        "plt.title(\"Body Mass by Penguin Species\")\n",
        "plt.xlabel(\"Species\")\n",
        "plt.ylabel(\"Body Mass (g)\")\n",
        "plt.show()\n"
      ],
      "metadata": {
        "id": "b7arlbJYwU35"
      },
      "execution_count": null,
      "outputs": []
    },
    {
      "cell_type": "markdown",
      "source": [
        "Interpretation: Based on the boxplot, answer the following:\n",
        "\n",
        "1. Which species has the largest median body mass?\n",
        "GENTOO\n",
        "2. Which species has the widest range in body mass?\n",
        "CHINSTRAP\n",
        "3. Are there any outliers? If so, which species have them?\n",
        " Yes, Adelie and Chinstrap species have some outliers in body mass."
      ],
      "metadata": {
        "id": "B2O0ZehfwV1w"
      }
    },
    {
      "cell_type": "markdown",
      "source": [
        "*Your anwswer is here *"
      ],
      "metadata": {
        "id": "SxCnIUPNwdYV"
      }
    },
    {
      "cell_type": "markdown",
      "source": [
        "Task 2: Violin Plot - Flipper Length Distribution by Species\n",
        "Create a violin plot to analyze the distribution of flipper length across species:"
      ],
      "metadata": {
        "id": "nUaripm8wf62"
      }
    },
    {
      "cell_type": "code",
      "source": [
        "plt.figure(figsize=(8, 6))\n",
        "sns.violinplot(x=\"species\", y=\"flipper_length_mm\", data=penguins, palette=\"Pastel1\", inner=\"quartile\")\n",
        "plt.title(\"Flipper Length Distribution by Species\")\n",
        "plt.xlabel(\"Species\")\n",
        "plt.ylabel(\"Flipper Length (mm)\")\n",
        "plt.show()\n"
      ],
      "metadata": {
        "id": "LE_rn94TwjCO"
      },
      "execution_count": null,
      "outputs": []
    },
    {
      "cell_type": "markdown",
      "source": [
        "Interpretation: Answer the following:\n",
        "\n",
        "1. Which species has the most symmetrical distribution? GENTOO\n",
        "2. Which species has the widest spread of flipper lengths? ADELIE\n",
        "3. How do the quartiles (white lines in the plot) compare for each species? Gentoo has higher quartiles overall. Adelie’s quartiles are more compact, while Chinstrap shows a wider interquartile range."
      ],
      "metadata": {
        "id": "bIUx4SW1wmPj"
      }
    },
    {
      "cell_type": "markdown",
      "source": [
        "**Task 3**: Ridgeline Plot - Distribution of Bill Length by Island\n",
        "Use a ridgeline plot to visualize the distribution of bill length across islands:"
      ],
      "metadata": {
        "id": "QDL0M3lww2lq"
      }
    },
    {
      "cell_type": "code",
      "source": [
        "plt.figure(figsize=(10, 6))\n",
        "joyplot(penguins, by=\"island\", column=\"bill_length_mm\", colormap=plt.cm.viridis, fade=True)\n",
        "plt.title(\"Bill Length Distribution by Island\")\n",
        "plt.xlabel(\"Bill Length (mm)\")\n",
        "plt.show()\n"
      ],
      "metadata": {
        "id": "4dngtByNw4nc"
      },
      "execution_count": null,
      "outputs": []
    },
    {
      "cell_type": "markdown",
      "source": [
        "Interpretation: Answer the following:\n",
        "1. Which island has the smallest range of bill lengths? BISCOE\n",
        "2. Which island has the most uniform distribution? DREAMS\n",
        "3. What differences do you notice between the islands in terms of bill length? Torgersen has a tighter distribution centered around a specific range, Biscoe has slightly lower bill lengths overall, and Dream Island shows a smoother, broader range of bill lengths."
      ],
      "metadata": {
        "id": "9ANVWrZTxCfb"
      }
    },
    {
      "cell_type": "markdown",
      "source": [
        "upload your completed notebook (.ipynb) to Google Colab or GitHub.\n",
        "Submit the GitHub/Colab link in MS Teams under the assignment post."
      ],
      "metadata": {
        "id": "WclqVUSixJ1D"
      }
    }
  ]
}